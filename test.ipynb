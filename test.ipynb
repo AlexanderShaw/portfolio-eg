{
 "cells": [
  {
   "cell_type": "code",
   "execution_count": 19,
   "metadata": {},
   "outputs": [],
   "source": [
    "import pandas as pd\n",
    "data = pd.read_csv(\"data/game_round.csv\")"
   ]
  },
  {
   "cell_type": "code",
   "execution_count": 72,
   "metadata": {},
   "outputs": [],
   "source": [
    "read_cols = [\n",
    "        \"match_id\",\n",
    "        \"match_date\",\n",
    "        \"winning_team\",\n",
    "        \"losing_team\",\n",
    "        \"score\",\n",
    "        \"winning_t_wins\",\n",
    "        \"winning_ct_wins\",\n",
    "        \"losing_t_wins\",\n",
    "        \"losing_ct_wins\",\n",
    "        \"winning_players\",\n",
    "        \"losing_players\",\n",
    "    ]"
   ]
  },
  {
   "cell_type": "code",
   "execution_count": 83,
   "metadata": {},
   "outputs": [
    {
     "name": "stderr",
     "output_type": "stream",
     "text": [
      "/tmp/ipykernel_39857/4094763914.py:9: FutureWarning: Series.__getitem__ treating keys as positions is deprecated. In a future version, integer keys will always be treated as labels (consistent with DataFrame behavior). To access a value by position, use `ser.iloc[pos]`\n",
      "  score = str(data[data['match_id'] == match_id].winning_team.value_counts().sort_values(ascending=False)[0]) + \"-\" + str(data[data['match_id'] == match_id].winning_team.value_counts().sort_values(ascending=False)[1])\n",
      "/tmp/ipykernel_39857/4094763914.py:9: FutureWarning: Series.__getitem__ treating keys as positions is deprecated. In a future version, integer keys will always be treated as labels (consistent with DataFrame behavior). To access a value by position, use `ser.iloc[pos]`\n",
      "  score = str(data[data['match_id'] == match_id].winning_team.value_counts().sort_values(ascending=False)[0]) + \"-\" + str(data[data['match_id'] == match_id].winning_team.value_counts().sort_values(ascending=False)[1])\n",
      "/tmp/ipykernel_39857/4094763914.py:9: FutureWarning: Series.__getitem__ treating keys as positions is deprecated. In a future version, integer keys will always be treated as labels (consistent with DataFrame behavior). To access a value by position, use `ser.iloc[pos]`\n",
      "  score = str(data[data['match_id'] == match_id].winning_team.value_counts().sort_values(ascending=False)[0]) + \"-\" + str(data[data['match_id'] == match_id].winning_team.value_counts().sort_values(ascending=False)[1])\n",
      "/tmp/ipykernel_39857/4094763914.py:9: FutureWarning: Series.__getitem__ treating keys as positions is deprecated. In a future version, integer keys will always be treated as labels (consistent with DataFrame behavior). To access a value by position, use `ser.iloc[pos]`\n",
      "  score = str(data[data['match_id'] == match_id].winning_team.value_counts().sort_values(ascending=False)[0]) + \"-\" + str(data[data['match_id'] == match_id].winning_team.value_counts().sort_values(ascending=False)[1])\n",
      "/tmp/ipykernel_39857/4094763914.py:9: FutureWarning: Series.__getitem__ treating keys as positions is deprecated. In a future version, integer keys will always be treated as labels (consistent with DataFrame behavior). To access a value by position, use `ser.iloc[pos]`\n",
      "  score = str(data[data['match_id'] == match_id].winning_team.value_counts().sort_values(ascending=False)[0]) + \"-\" + str(data[data['match_id'] == match_id].winning_team.value_counts().sort_values(ascending=False)[1])\n",
      "/tmp/ipykernel_39857/4094763914.py:9: FutureWarning: Series.__getitem__ treating keys as positions is deprecated. In a future version, integer keys will always be treated as labels (consistent with DataFrame behavior). To access a value by position, use `ser.iloc[pos]`\n",
      "  score = str(data[data['match_id'] == match_id].winning_team.value_counts().sort_values(ascending=False)[0]) + \"-\" + str(data[data['match_id'] == match_id].winning_team.value_counts().sort_values(ascending=False)[1])\n"
     ]
    }
   ],
   "source": [
    "df = pd.DataFrame(columns=read_cols)\n",
    "data = pd.read_csv(\"data/game_round.csv\")\n",
    "data = data[data['map_name'] == 'de_ancient']\n",
    "frame_players = pd.read_csv(\"data/frame_player.csv\")\n",
    "for match_id in data['match_id'].unique():\n",
    "    match_date = data[data['match_id'] == match_id]['created_at'].apply(lambda x: x[:10]).iloc[0]\n",
    "    winning_team = data[data['match_id'] == match_id].winning_team.value_counts().sort_values(ascending=False).index[0]\n",
    "    losing_team = data[data['match_id'] == match_id].winning_team.value_counts().sort_values(ascending=False).index[1]\n",
    "    score = str(data[data['match_id'] == match_id].winning_team.value_counts().sort_values(ascending=False)[0]) + \"-\" + str(data[data['match_id'] == match_id].winning_team.value_counts().sort_values(ascending=False)[1])\n",
    "    round_wins = data[data['match_id'] == match_id][['winning_team', 'winning_side']].value_counts()\n",
    "    winning_t_wins = round_wins[winning_team]['T']\n",
    "    winning_ct_wins = round_wins[winning_team]['CT']\n",
    "    losing_t_wins = round_wins[losing_team]['T']\n",
    "    losing_ct_wins = (round_wins[losing_team]['CT'] if len(round_wins[losing_team]) == 2 else 0)\n",
    "    winning_players = frame_players[(frame_players['team']==winning_team) & (frame_players.match_id == match_id)]['name'].unique()\n",
    "    string = ''\n",
    "    for player in winning_players:\n",
    "        string += str(player) + \", \"\n",
    "    string = string[:-2]\n",
    "    winning_players = string\n",
    "    losing_players = frame_players[(frame_players['team']==losing_team) & (frame_players.match_id == match_id)]['name'].unique()\n",
    "    string = ''\n",
    "    for player in losing_players:\n",
    "        string += str(player) + \", \"\n",
    "    string = string[:-2]\n",
    "    losing_players = string\n",
    "    df.loc[len(df)] = [match_id, match_date, winning_team, losing_team, score, winning_t_wins, winning_ct_wins, losing_t_wins, losing_ct_wins, winning_players, losing_players]"
   ]
  },
  {
   "cell_type": "code",
   "execution_count": 84,
   "metadata": {},
   "outputs": [
    {
     "data": {
      "text/html": [
       "<div>\n",
       "<style scoped>\n",
       "    .dataframe tbody tr th:only-of-type {\n",
       "        vertical-align: middle;\n",
       "    }\n",
       "\n",
       "    .dataframe tbody tr th {\n",
       "        vertical-align: top;\n",
       "    }\n",
       "\n",
       "    .dataframe thead th {\n",
       "        text-align: right;\n",
       "    }\n",
       "</style>\n",
       "<table border=\"1\" class=\"dataframe\">\n",
       "  <thead>\n",
       "    <tr style=\"text-align: right;\">\n",
       "      <th></th>\n",
       "      <th>match_id</th>\n",
       "      <th>match_date</th>\n",
       "      <th>winning_team</th>\n",
       "      <th>losing_team</th>\n",
       "      <th>score</th>\n",
       "      <th>winning_t_wins</th>\n",
       "      <th>winning_ct_wins</th>\n",
       "      <th>losing_t_wins</th>\n",
       "      <th>losing_ct_wins</th>\n",
       "      <th>winning_players</th>\n",
       "      <th>losing_players</th>\n",
       "    </tr>\n",
       "  </thead>\n",
       "  <tbody>\n",
       "    <tr>\n",
       "      <th>0</th>\n",
       "      <td>2hwmhm2w</td>\n",
       "      <td>2023-06-05</td>\n",
       "      <td>EC Brugge</td>\n",
       "      <td>mastermix123</td>\n",
       "      <td>16-14</td>\n",
       "      <td>10</td>\n",
       "      <td>6</td>\n",
       "      <td>9</td>\n",
       "      <td>5</td>\n",
       "      <td>n0tice, Stev0se, swiiffter, MAGILA-, simixinho</td>\n",
       "      <td>RONDE, Arttub0b, Beruya, n0te, eneshan</td>\n",
       "    </tr>\n",
       "    <tr>\n",
       "      <th>1</th>\n",
       "      <td>2x7q7fae</td>\n",
       "      <td>2023-06-02</td>\n",
       "      <td>Wildcard</td>\n",
       "      <td>Nouns esports</td>\n",
       "      <td>19-16</td>\n",
       "      <td>4</td>\n",
       "      <td>15</td>\n",
       "      <td>5</td>\n",
       "      <td>11</td>\n",
       "      <td>WCCryptic, WCbrett, WCd4rty, WCSLIGHT, WCfreshie</td>\n",
       "      <td>nouns.MarKE, nouns.cJ-dA-K1nG, nouns.Carson, n...</td>\n",
       "    </tr>\n",
       "    <tr>\n",
       "      <th>2</th>\n",
       "      <td>3z6hw9ra</td>\n",
       "      <td>2023-06-03</td>\n",
       "      <td>Nigma Galaxy</td>\n",
       "      <td>Shimmer</td>\n",
       "      <td>16-2</td>\n",
       "      <td>3</td>\n",
       "      <td>13</td>\n",
       "      <td>2</td>\n",
       "      <td>0</td>\n",
       "      <td>twenty3, tory, vilga, Kat, ANa</td>\n",
       "      <td>abby, Lx_, empathy, vanessa, lisa</td>\n",
       "    </tr>\n",
       "  </tbody>\n",
       "</table>\n",
       "</div>"
      ],
      "text/plain": [
       "   match_id  match_date  winning_team    losing_team  score  winning_t_wins  \\\n",
       "0  2hwmhm2w  2023-06-05     EC Brugge   mastermix123  16-14              10   \n",
       "1  2x7q7fae  2023-06-02      Wildcard  Nouns esports  19-16               4   \n",
       "2  3z6hw9ra  2023-06-03  Nigma Galaxy        Shimmer   16-2               3   \n",
       "\n",
       "   winning_ct_wins  losing_t_wins  losing_ct_wins  \\\n",
       "0                6              9               5   \n",
       "1               15              5              11   \n",
       "2               13              2               0   \n",
       "\n",
       "                                    winning_players  \\\n",
       "0    n0tice, Stev0se, swiiffter, MAGILA-, simixinho   \n",
       "1  WCCryptic, WCbrett, WCd4rty, WCSLIGHT, WCfreshie   \n",
       "2                    twenty3, tory, vilga, Kat, ANa   \n",
       "\n",
       "                                      losing_players  \n",
       "0             RONDE, Arttub0b, Beruya, n0te, eneshan  \n",
       "1  nouns.MarKE, nouns.cJ-dA-K1nG, nouns.Carson, n...  \n",
       "2                  abby, Lx_, empathy, vanessa, lisa  "
      ]
     },
     "execution_count": 84,
     "metadata": {},
     "output_type": "execute_result"
    }
   ],
   "source": [
    "df"
   ]
  },
  {
   "cell_type": "code",
   "execution_count": 60,
   "metadata": {},
   "outputs": [],
   "source": [
    "winning_team = data[data['match_id'] == '2hwmhm2w'].winning_team.value_counts().sort_values(ascending=False).index[0]\n",
    "losing_team = data[data['match_id'] == '2hwmhm2w'].winning_team.value_counts().sort_values(ascending=False).index[1]"
   ]
  },
  {
   "cell_type": "code",
   "execution_count": 50,
   "metadata": {},
   "outputs": [
    {
     "data": {
      "text/plain": [
       "'2023-06-05'"
      ]
     },
     "execution_count": 50,
     "metadata": {},
     "output_type": "execute_result"
    }
   ],
   "source": [
    "data[data['match_id'] == match_id]['created_at'].apply(lambda x: x[:10]).iloc[0]"
   ]
  },
  {
   "cell_type": "code",
   "execution_count": 62,
   "metadata": {},
   "outputs": [],
   "source": [
    "round_wins = data[data['match_id'] == '2hwmhm2w'][['winning_team', 'winning_side']].value_counts()\n",
    "winning_t_wins = round_wins[winning_team]['T']\n",
    "winning_ct_wins = round_wins[winning_team]['CT']\n",
    "losing_t_wins = round_wins[losing_team]['T']\n",
    "losing_ct_wins = round_wins[losing_team]['CT']\n"
   ]
  },
  {
   "cell_type": "code",
   "execution_count": 70,
   "metadata": {},
   "outputs": [
    {
     "data": {
      "text/plain": [
       "array(['n0tice', 'Stev0se', 'swiiffter', 'MAGILA-', 'simixinho'],\n",
       "      dtype=object)"
      ]
     },
     "execution_count": 70,
     "metadata": {},
     "output_type": "execute_result"
    }
   ],
   "source": [
    "frame_players = pd.read_csv(\"data/frame_player.csv\")\n",
    "frame_players[(frame_players['team']==winning_team) & (frame_players.match_id == '2hwmhm2w')]['name'].unique()"
   ]
  },
  {
   "cell_type": "code",
   "execution_count": 78,
   "metadata": {},
   "outputs": [
    {
     "data": {
      "text/plain": [
       "1"
      ]
     },
     "execution_count": 78,
     "metadata": {},
     "output_type": "execute_result"
    }
   ],
   "source": [
    "len(round_wins[losing_team])"
   ]
  },
  {
   "cell_type": "code",
   "execution_count": null,
   "metadata": {},
   "outputs": [],
   "source": []
  }
 ],
 "metadata": {
  "kernelspec": {
   "display_name": "Python 3",
   "language": "python",
   "name": "python3"
  },
  "language_info": {
   "codemirror_mode": {
    "name": "ipython",
    "version": 3
   },
   "file_extension": ".py",
   "mimetype": "text/x-python",
   "name": "python",
   "nbconvert_exporter": "python",
   "pygments_lexer": "ipython3",
   "version": "3.10.12"
  },
  "orig_nbformat": 4
 },
 "nbformat": 4,
 "nbformat_minor": 2
}
